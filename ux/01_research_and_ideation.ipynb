{
 "cells": [
  {
   "cell_type": "markdown",
   "id": "5c601795",
   "metadata": {},
   "source": [
    "# 01 – Research & Ideation (Gig Finder for Emerging DJs)\n",
    "Author: Henry Fuss\n",
    "\n",
    "Use this notebook during workshops to capture thinking. Commit it after each session."
   ]
  },
  {
   "cell_type": "markdown",
   "id": "5d9f3a14",
   "metadata": {},
   "source": [
    "## Problem & Context\n",
    "- Venues struggle to discover local DJs quickly.\n",
    "- DJs need one profile with mixes + calendar.\n",
    "- Must work well on mobile and low bandwidth."
   ]
  },
  {
   "cell_type": "markdown",
   "id": "77db4d63",
   "metadata": {},
   "source": [
    "## Personas\n",
    "### Venue Owner (Primary)\n",
    "- Goals: quick search, preview, book.\n",
    "- Pain points: flaky comms, double-booking.\n",
    "\n",
    "### Emerging DJ (Primary)\n",
    "- Goals: showcase mixes, get gigs, control availability.\n",
    "- Pain points: too many platforms, inconsistent inquiries."
   ]
  },
  {
   "cell_type": "markdown",
   "id": "f9f8752e",
   "metadata": {},
   "source": [
    "## Key Tasks / User Journeys\n",
    "1. Venue: Search → Filter → Open profile → Play mix → Check calendar → Request booking.\n",
    "2. DJ: Sign up → Upload mix → Set availability → Get booking request → Accept/Decline."
   ]
  },
  {
   "cell_type": "markdown",
   "id": "55da5812",
   "metadata": {},
   "source": [
    "## Heuristics Mapping (Nielsen)\n",
    "- Visibility of system status → loading states, audio playing indicators.\n",
    "- Error prevention → disable booked dates, validate forms.\n",
    "- Recognition over recall → standard icons, chips, clear labels.\n",
    "- Consistency → same profile template for every DJ.\n",
    "- Aesthetic & minimalist → focused layout, good spacing."
   ]
  },
  {
   "cell_type": "markdown",
   "id": "b6697989",
   "metadata": {},
   "source": [
    "## Accessibility Checklist (WCAG Quick Wins)\n",
    "- High contrast (test later)\n",
    "- Keyboard nav for all interactive elements\n",
    "- Alt text for images\n",
    "- No colour-only indicators\n",
    "- Focus styles visible"
   ]
  },
  {
   "cell_type": "markdown",
   "id": "894b46fd",
   "metadata": {},
   "source": [
    "## Design Options (sketches placeholder)\n",
    "- Option A: Card-heavy results grid + modal profile\n",
    "- Option B: Results list + dedicated profile page\n",
    "- Option C: Map + list hybrid for city browsing\n",
    "\n",
    "_Add sketches/screenshots into `/ux/wireframes/` and reference them here._"
   ]
  },
  {
   "cell_type": "markdown",
   "id": "59a71b0c",
   "metadata": {},
   "source": [
    "## Decision Matrix Notes\n",
    "Paste scores from `/docs/decision_matrix.csv` and summarise why the winner was picked."
   ]
  },
  {
   "cell_type": "markdown",
   "id": "a90f62da",
   "metadata": {},
   "source": [
    "## Next Actions\n",
    "- Finalise criteria weights\n",
    "- Pick an option after quick tests\n",
    "- Start low-fi prototype\n",
    "- Commit wireframes + update README"
   ]
  }
 ],
 "metadata": {},
 "nbformat": 4,
 "nbformat_minor": 5
}
